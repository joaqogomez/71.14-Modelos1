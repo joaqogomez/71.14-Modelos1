{
 "cells": [
  {
   "cell_type": "code",
   "execution_count": 1,
   "metadata": {},
   "outputs": [
    {
     "name": "stdout",
     "output_type": "stream",
     "text": [
      "Incompatibilidades:  [(1, 10), (1, 19), (1, 2), (1, 3), (1, 4), (1, 5), (1, 6), (1, 7), (1, 8), (1, 9), (1, 17), (2, 11), (2, 20), (2, 9), (2, 3), (2, 4), (2, 5), (2, 6), (2, 7), (2, 8), (2, 10), (2, 18), (2, 1), (3, 12), (3, 10), (3, 17), (3, 4), (3, 5), (3, 6), (3, 7), (3, 8), (3, 11), (3, 19), (3, 2), (3, 1), (4, 13), (4, 11), (4, 18), (4, 5), (4, 6), (4, 7), (4, 8), (4, 12), (4, 20), (4, 3), (4, 2), (4, 1), (5, 14), (5, 12), (5, 19), (5, 6), (5, 7), (5, 8), (5, 13), (5, 4), (5, 3), (5, 2), (5, 1), (6, 15), (6, 13), (6, 20), (6, 7), (6, 8), (6, 14), (6, 5), (6, 4), (6, 3), (6, 2), (6, 1), (7, 16), (7, 14), (7, 8), (7, 15), (7, 6), (7, 5), (7, 4), (7, 3), (7, 2), (7, 1), (8, 15), (8, 16), (8, 7), (8, 6), (8, 5), (8, 4), (8, 3), (8, 2), (8, 1), (9, 18), (9, 10), (9, 11), (9, 12), (9, 13), (9, 14), (9, 15), (9, 16), (9, 17), (9, 2), (9, 1), (10, 19), (10, 17), (10, 11), (10, 12), (10, 13), (10, 14), (10, 15), (10, 16), (10, 18), (10, 9), (10, 3), (10, 2), (10, 1), (11, 20), (11, 18), (11, 12), (11, 13), (11, 14), (11, 15), (11, 16), (11, 19), (11, 10), (11, 9), (11, 4), (11, 3), (11, 2), (12, 19), (12, 13), (12, 14), (12, 15), (12, 16), (12, 20), (12, 11), (12, 10), (12, 9), (12, 5), (12, 4), (12, 3), (13, 20), (13, 14), (13, 15), (13, 16), (13, 12), (13, 11), (13, 10), (13, 9), (13, 6), (13, 5), (13, 4), (14, 15), (14, 16), (14, 13), (14, 12), (14, 11), (14, 10), (14, 9), (14, 7), (14, 6), (14, 5), (15, 16), (15, 14), (15, 13), (15, 12), (15, 11), (15, 10), (15, 9), (15, 8), (15, 7), (15, 6), (16, 15), (16, 14), (16, 13), (16, 12), (16, 11), (16, 10), (16, 9), (16, 8), (16, 7), (17, 18), (17, 19), (17, 20), (17, 10), (17, 9), (17, 3), (17, 1), (18, 19), (18, 20), (18, 17), (18, 11), (18, 10), (18, 9), (18, 4), (18, 2), (19, 20), (19, 18), (19, 17), (19, 12), (19, 11), (19, 10), (19, 5), (19, 3), (19, 1), (20, 19), (20, 18), (20, 17), (20, 13), (20, 12), (20, 11), (20, 6), (20, 4), (20, 2)]\n",
      "Tiempos lavado:  {1: 8, 2: 10, 3: 9, 4: 7, 5: 3, 6: 9, 7: 10, 8: 2, 9: 9, 10: 8, 11: 6, 12: 9, 13: 5, 14: 1, 15: 5, 16: 9, 17: 10, 18: 4, 19: 4, 20: 5}\n",
      "Chequeo que tengan el largo correcto: \n",
      "Incompatibilidades: True\n",
      "Tiempos lavado: True\n"
     ]
    }
   ],
   "source": [
    "incompatibilidades = []\n",
    "tiempos_lavado = {}\n",
    "cantidad_prendas = 0\n",
    "cantidad_incompatibilidades = 0\n",
    "\n",
    "with open('datos.txt', 'r') as file:\n",
    "    for line in file:\n",
    "        if line.startswith('p'):\n",
    "            _, _,cantidad_prendas, cantidad_incompatibilidades = line.split()\n",
    "        if line.startswith('e'):\n",
    "            _, prenda1, prenda2 = line.split()\n",
    "            incompatibilidades.append((int(prenda1), int(prenda2)))\n",
    "        if line.startswith('n'):\n",
    "            _, numero_prenda, tiempo_lavado = line.split()\n",
    "            tiempos_lavado[int(numero_prenda)] = int(tiempo_lavado)\n",
    "\n",
    "cantidad_prendas = int(cantidad_prendas)\n",
    "cantidad_incompatibilidades = int(cantidad_incompatibilidades)\n",
    "\n",
    "print(\"Incompatibilidades: \", incompatibilidades)\n",
    "print(\"Tiempos lavado: \", tiempos_lavado)\n",
    "\n",
    "print(\"Chequeo que tengan el largo correcto: \")\n",
    "print(f\"Incompatibilidades: {cantidad_incompatibilidades == len(incompatibilidades)}\")\n",
    "print(f\"Tiempos lavado: {cantidad_prendas == len(tiempos_lavado)}\")\n",
    "\n"
   ]
  },
  {
   "cell_type": "code",
   "execution_count": 2,
   "metadata": {},
   "outputs": [
    {
     "name": "stdout",
     "output_type": "stream",
     "text": [
      "Lavado 1: [2, 17, 12], Tiempo Total: 10\n",
      "Lavado 2: [7, 9, 20], Tiempo Total: 10\n",
      "Lavado 3: [3, 16, 18], Tiempo Total: 9\n",
      "Lavado 4: [6, 10], Tiempo Total: 9\n",
      "Lavado 5: [1, 11], Tiempo Total: 8\n",
      "Lavado 6: [4, 15, 19], Tiempo Total: 7\n",
      "Lavado 7: [13, 8], Tiempo Total: 5\n",
      "Lavado 8: [5], Tiempo Total: 3\n",
      "Lavado 9: [14], Tiempo Total: 1\n",
      "suma total tiempo: 62\n"
     ]
    }
   ],
   "source": [
    "def son_incompatibles(prenda1, prenda2, incompatibilidades):\n",
    "    return (prenda1, prenda2) in incompatibilidades or (prenda2, prenda1) in incompatibilidades\n",
    "\n",
    "def asignar_prenda_en_lavados(tiempos, incompatibilidades):\n",
    "    prendas_ordenadas = sorted(tiempos, key=tiempos.get, reverse=True)\n",
    "    lavados = {}\n",
    "    for prenda in prendas_ordenadas:\n",
    "        lavado_asignado = None\n",
    "        menor_tiempo = float('inf')\n",
    "        for lavado, prendas_en_lavado in lavados.items():\n",
    "            if all(not son_incompatibles(prenda, p, incompatibilidades) for p in prendas_en_lavado):\n",
    "                tiempo_prependa = tiempos[prenda]\n",
    "                if tiempo_prependa < menor_tiempo:\n",
    "                    lavado_asignado = lavado\n",
    "                    menor_tiempo = tiempo_prependa\n",
    "        if lavado_asignado is None:\n",
    "            lavados[len(lavados)+1] = [prenda]\n",
    "        else:\n",
    "            lavados[lavado_asignado].append(prenda)\n",
    "    return lavados\n",
    "\n",
    "resultado = asignar_prenda_en_lavados(tiempos_lavado, incompatibilidades)\n",
    "\n",
    "suma_total = 0\n",
    "for lavado, prendas in resultado.items():\n",
    "    tiempo_lavado = max(tiempos_lavado[prenda] for prenda in prendas)\n",
    "    suma_total += tiempo_lavado\n",
    "    print(f\"Lavado {lavado}: {prendas}, Tiempo Total: {tiempo_lavado}\")\n",
    "print(f\"suma total tiempo: {suma_total}\")\n"
   ]
  },
  {
   "cell_type": "code",
   "execution_count": 3,
   "metadata": {},
   "outputs": [],
   "source": [
    "# Formateo la solucion\n",
    "with open('solucion.txt', 'w') as file:\n",
    "    for lavado, prendas in resultado.items():\n",
    "        for prenda in prendas:\n",
    "            file.write(f\"{prenda} {lavado}\\n\")"
   ]
  }
 ],
 "metadata": {
  "kernelspec": {
   "display_name": "Python 3",
   "language": "python",
   "name": "python3"
  },
  "language_info": {
   "codemirror_mode": {
    "name": "ipython",
    "version": 3
   },
   "file_extension": ".py",
   "mimetype": "text/x-python",
   "name": "python",
   "nbconvert_exporter": "python",
   "pygments_lexer": "ipython3",
   "version": "3.10.4"
  }
 },
 "nbformat": 4,
 "nbformat_minor": 2
}
